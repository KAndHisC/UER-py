{
 "cells": [
  {
   "cell_type": "code",
   "execution_count": 1,
   "metadata": {},
   "outputs": [
    {
     "data": {
      "text/plain": [
       "189441"
      ]
     },
     "execution_count": 1,
     "metadata": {},
     "output_type": "execute_result"
    }
   ],
   "source": [
    "import json\n",
    "\n",
    "origin_file = './all_poems.json'\n",
    "target_file = './all_poems.txt'\n",
    "\n",
    "data = json.load(open(origin_file, 'r', encoding='utf-8'))\n",
    "len(data)"
   ]
  },
  {
   "cell_type": "code",
   "execution_count": 2,
   "metadata": {},
   "outputs": [],
   "source": [
    "with open(target_file , 'w', encoding='utf-8') as poem_file:\n",
    "    for item in data:\n",
    "        temp = ''\n",
    "        for line in item['content']:\n",
    "            if len(temp) + len(line) > 128:\n",
    "                poem_file.write(temp+'\\n')\n",
    "                temp = line + '↲' \n",
    "            else:\n",
    "                temp = temp + line + '↲' \n",
    "        poem_file.write(temp + '\\n\\n')"
   ]
  },
  {
   "cell_type": "code",
   "execution_count": 16,
   "metadata": {},
   "outputs": [
    {
     "data": {
      "text/plain": [
       "5202"
      ]
     },
     "execution_count": 16,
     "metadata": {},
     "output_type": "execute_result"
    }
   ],
   "source": [
    "\n",
    "count = 0\n",
    "for file in files_list:\n",
    "    with open(origin_path + file, 'r', encoding='utf-8') as f:\n",
    "        data = json.load(f)\n",
    "        count += len(data)\n",
    "count          "
   ]
  },
  {
   "cell_type": "code",
   "execution_count": 27,
   "metadata": {},
   "outputs": [],
   "source": [
    "\n",
    "for file in files_list:\n",
    "    with open(origin_path + file, 'r', encoding='utf-8') as f:\n",
    "        data = json.load(f)\n",
    "        for item in data:\n",
    "            if len(item['content'])>350:\n",
    "                print(item['title'],file)\n",
    "  "
   ]
  }
 ],
 "metadata": {
  "kernelspec": {
   "display_name": "py310",
   "language": "python",
   "name": "python3"
  },
  "language_info": {
   "codemirror_mode": {
    "name": "ipython",
    "version": 3
   },
   "file_extension": ".py",
   "mimetype": "text/x-python",
   "name": "python",
   "nbconvert_exporter": "python",
   "pygments_lexer": "ipython3",
   "version": "3.10.9"
  },
  "orig_nbformat": 4,
  "vscode": {
   "interpreter": {
    "hash": "1e9176f1865afb3c67b25444d5aefd88b9a97c4ef63cb84378c726fddba8060b"
   }
  }
 },
 "nbformat": 4,
 "nbformat_minor": 2
}
