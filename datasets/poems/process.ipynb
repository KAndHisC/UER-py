{
 "cells": [
  {
   "cell_type": "code",
   "execution_count": 2,
   "metadata": {},
   "outputs": [
    {
     "data": {
      "text/plain": [
       "199998"
      ]
     },
     "execution_count": 2,
     "metadata": {},
     "output_type": "execute_result"
    }
   ],
   "source": [
    "import json\n",
    "\n",
    "origin_file = './poems_data.json'\n",
    "target_file = './poems_data.txt'\n",
    "\n",
    "data = json.load(open(origin_file, 'r', encoding='utf-8'))\n",
    "len(data)"
   ]
  },
  {
   "cell_type": "code",
   "execution_count": 3,
   "metadata": {},
   "outputs": [],
   "source": [
    "with open(target_file , 'w', encoding='utf-8') as poem_file:\n",
    "    for item in data:\n",
    "        # {title}<topic>[kw1|kw2|kw3|...]\n",
    "        poem_prefix = 'Title: \\'' + item['title'] + '\\' Topic: \\'' + item['topic'] + '\\' Keywords: \\'' +','.join(item['keywords']) + '\\' Content: '\n",
    "        # poem_file.write(poem_prefix+'\\n')\n",
    "        # temp = ''\n",
    "        temp = poem_prefix\n",
    "        # skip whitespace line\n",
    "        start = 0\n",
    "        skip = False\n",
    "        while item['content'][start].strip() == '':\n",
    "            start += 1\n",
    "            if start >= len(item['content']):\n",
    "                skip = True\n",
    "                break\n",
    "        if skip:\n",
    "            continue\n",
    "        for line in item['content'][start:]:\n",
    "            # TODO -- may not need to translate\n",
    "            line = line.translate(str.maketrans('\\u3000','\\u2582'))\n",
    "            if len(temp) + len(line) > 200:\n",
    "                temp.lstrip('↲')\n",
    "                poem_file.write(temp+'\\n')\n",
    "                temp = line + '↲' \n",
    "            else:\n",
    "                temp = temp + line + '↲' \n",
    "        poem_file.write(temp + '\\n\\n')"
   ]
  }
 ],
 "metadata": {
  "kernelspec": {
   "display_name": "py310",
   "language": "python",
   "name": "python3"
  },
  "language_info": {
   "codemirror_mode": {
    "name": "ipython",
    "version": 3
   },
   "file_extension": ".py",
   "mimetype": "text/x-python",
   "name": "python",
   "nbconvert_exporter": "python",
   "pygments_lexer": "ipython3",
   "version": "3.8.16"
  },
  "orig_nbformat": 4,
  "vscode": {
   "interpreter": {
    "hash": "1e9176f1865afb3c67b25444d5aefd88b9a97c4ef63cb84378c726fddba8060b"
   }
  }
 },
 "nbformat": 4,
 "nbformat_minor": 2
}
