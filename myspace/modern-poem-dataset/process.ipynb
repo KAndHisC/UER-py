{
 "cells": [
  {
   "cell_type": "code",
   "execution_count": 1,
   "metadata": {},
   "outputs": [],
   "source": [
    "import json\n",
    "\n",
    "files_list = ['0-49.json', '50-99.json', '100-149.json', '150-199.json', '200-249.json', '250-299.json', '300-349.json', '350-399.json', '400-449.json', '450-499.json', '500-518.json', '海子的诗.json', '马雁诗集.json', '张枣的诗.json']\n",
    "\n",
    "origin_path = './origin/'\n",
    "target_path = './processed/'"
   ]
  },
  {
   "cell_type": "code",
   "execution_count": 2,
   "metadata": {},
   "outputs": [],
   "source": [
    "with open(target_path + 'poem_256.txt', 'w', encoding='utf-8') as poem_file:\n",
    "    for file in files_list:\n",
    "        with open(origin_path + file, 'r', encoding='utf-8') as f:\n",
    "            data = json.load(f)\n",
    "            for item in data:\n",
    "                temp = ''\n",
    "                for line in item['content']:\n",
    "                    line = line.replace('　', '⇥')\n",
    "                    line = line.replace(',', '，')\n",
    "                    if len(temp) + len(line) > 220:\n",
    "                        poem_file.write(temp+'\\n')\n",
    "                        temp = line + '↲' \n",
    "                    else:\n",
    "                        temp = temp + line + '↲' \n",
    "                poem_file.write(temp + '\\n\\n')"
   ]
  },
  {
   "cell_type": "code",
   "execution_count": 16,
   "metadata": {},
   "outputs": [
    {
     "data": {
      "text/plain": [
       "5202"
      ]
     },
     "execution_count": 16,
     "metadata": {},
     "output_type": "execute_result"
    }
   ],
   "source": [
    "\n",
    "count = 0\n",
    "for file in files_list:\n",
    "    with open(origin_path + file, 'r', encoding='utf-8') as f:\n",
    "        data = json.load(f)\n",
    "        count += len(data)\n",
    "count          "
   ]
  },
  {
   "cell_type": "code",
   "execution_count": 27,
   "metadata": {},
   "outputs": [],
   "source": [
    "\n",
    "for file in files_list:\n",
    "    with open(origin_path + file, 'r', encoding='utf-8') as f:\n",
    "        data = json.load(f)\n",
    "        for item in data:\n",
    "            if len(item['content'])>350:\n",
    "                print(item['title'],file)\n",
    "  "
   ]
  }
 ],
 "metadata": {
  "kernelspec": {
   "display_name": "uer",
   "language": "python",
   "name": "python3"
  },
  "language_info": {
   "codemirror_mode": {
    "name": "ipython",
    "version": 3
   },
   "file_extension": ".py",
   "mimetype": "text/x-python",
   "name": "python",
   "nbconvert_exporter": "python",
   "pygments_lexer": "ipython3",
   "version": "3.8.15"
  },
  "orig_nbformat": 4,
  "vscode": {
   "interpreter": {
    "hash": "49a4d35495a0ee52f35720c27c94986b4a3077a71a8c6157808376aed5c51fad"
   }
  }
 },
 "nbformat": 4,
 "nbformat_minor": 2
}
