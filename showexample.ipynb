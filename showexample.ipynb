{
 "cells": [
  {
   "cell_type": "code",
   "execution_count": 13,
   "metadata": {},
   "outputs": [],
   "source": [
    "from transformers import BertTokenizer, GPT2LMHeadModel, TextGenerationPipeline\n",
    "# tokenizer = BertTokenizer.from_pretrained(\"uer/gpt2-chinese-lyric\")\n",
    "# model = GPT2LMHeadModel.from_pretrained(\"uer/gpt2-chinese-lyric\")\n",
    "tokenizer = BertTokenizer.from_pretrained(\"./models/cluecorpussmall\")\n",
    "model = GPT2LMHeadModel.from_pretrained('./models/cluecorpussmall')\n",
    "text_generator = TextGenerationPipeline(model, tokenizer)   "
   ]
  },
  {
   "cell_type": "code",
   "execution_count": 14,
   "metadata": {},
   "outputs": [
    {
     "name": "stderr",
     "output_type": "stream",
     "text": [
      "Setting `pad_token_id` to `eos_token_id`:50256 for open-end generation.\n"
     ]
    },
    {
     "data": {
      "text/plain": [
       "[{'generated_text': '梅花开在南山上， 你 就 可 以 一 睹 百 花 竞 开 、 万 物 争 翠 的 景 象 了 。 那 天 ， 江 西 省 的 百 花 盛 开 正 如 春 光 的 花 朵 。 在 江 西 境 内 的 庐 山 ， 有 条 名 为 东 坡 景 的 街 上 ， 就 连 千 手 观 音 的 塑 像 都 挂 满 了 百 花 。 在 一 百 米 深 处 ， 有 一 棵 十 里 长 的 百 花 观 音 ， 正 在 修 剪 树 枝 ， 正 在 修 剪 枝 头 。 这 是 百 花 繁 放 的 最 好 季 节 上 中 下 秋 。 在 江 西 庐 山 之 间 的 百 花 集 中 地 ， 在 秋 天 ， 各 种 各 样 的 花 丛 树 叶 都 是 金 黄 的 ， 满 眼 的 姹 紫 嫣 红 ， 如 同 一 幅 色 彩 绚 丽 富 丽 的 画 卷 。 而 在 金 色 的 大 千 台 ， 则 是 每 天 会 在 树 枝 、 花 朵 上 绽 放 的 花 朵 。 这 么 多 种 花 ， 都 是 百 花 争 放 的 最 佳 地 方 ， 花 开 花 谢 ， 是 这 个 季 节 最 不 可 错 过 的 花'}]"
      ]
     },
     "execution_count": 14,
     "metadata": {},
     "output_type": "execute_result"
    }
   ],
   "source": [
    "text_generator(\"梅花开在南山上，\", max_length=256, do_sample=True)"
   ]
  },
  {
   "cell_type": "markdown",
   "metadata": {},
   "source": [
    "[{'generated_text': '夜空中最亮的星， 这 是 爱 ， 就 此 一 生 ， 愿 我 的 我 的 吻 ， 一 再 爱 ， 也 许 是 我 真 ， 想 对 你 ， 狂 妄 代 价 ， 会 些 为 了 ， 这 种 罪 ， 我 爱 你 ， 没 有 未 能 令 我 的 手 ， 嗯 。 ， 不 要 独 立 生 活 下 也 记 忆 为 我 们 的 心 恼 ， 明 天 可 躲 ， 当 我 的 我 这 单 车 ， 失'}]"
   ]
  },
  {
   "cell_type": "code",
   "execution_count": 81,
   "metadata": {},
   "outputs": [
    {
     "name": "stderr",
     "output_type": "stream",
     "text": [
      "Setting `pad_token_id` to `eos_token_id`:50256 for open-end generation.\n"
     ]
    },
    {
     "data": {
      "text/plain": [
       "[{'generated_text': '最美的不是下雨天，是曾与你躲过雨的屋檐 檐 畔 水 ， she 也 同 ， 爱 情 能 ， 距 离 别 人 离 别 海 关 系 ， 我 ， 郎⌒⌒⌒ 算 是 鹜 几 年 ， 就 有 新 天 都 可 以 放 弃 ， 为 何 日 夜 我 ， don don don don don don don 的 路 口 ， 为 感 觉 总 是 一 生 ， 我 的 眼 泪 ， 在 我 的 多 感 情 感'}]"
      ]
     },
     "execution_count": 81,
     "metadata": {},
     "output_type": "execute_result"
    }
   ],
   "source": [
    "text_generator(\"最美的不是下雨天，是曾与你躲过雨的屋檐\", max_length=100, do_sample=True)"
   ]
  },
  {
   "cell_type": "code",
   "execution_count": 25,
   "metadata": {},
   "outputs": [
    {
     "name": "stderr",
     "output_type": "stream",
     "text": [
      "Setting `pad_token_id` to `eos_token_id`:50256 for open-end generation.\n"
     ]
    },
    {
     "data": {
      "text/plain": [
       "[{'generated_text': '当两颗心开始震动,当你瞳孔学会闪躲 躲 ， 你 去 没 法 术 一 颗 心 的 痕 ， 我 们 欠 浮 现 ， 现 今 我 臂 弯 曲 中 的 意 承 认 过 的 心 中 的 苦 ， 星 的 心 的 歌 啊 ， 我 的 相 展 现 吧 送 ， 每 次 的 脸 上 的 血 性 感 交 给 你 的 心 的 眼 前 的 话 ， 你 不 释 放 在 怀 ， 我 们 都 称'}]"
      ]
     },
     "execution_count": 25,
     "metadata": {},
     "output_type": "execute_result"
    }
   ],
   "source": [
    "text_generator(\"当两颗心开始震动,当你瞳孔学会闪躲\", max_length=100, do_sample=True)"
   ]
  },
  {
   "cell_type": "code",
   "execution_count": 2,
   "metadata": {},
   "outputs": [
    {
     "name": "stderr",
     "output_type": "stream",
     "text": [
      "Setting `pad_token_id` to `eos_token_id`:50256 for open-end generation.\n"
     ]
    },
    {
     "data": {
      "text/plain": [
       "[{'generated_text': '当 两 颗 心 开 始 震 动  ， 快 乐 呀 ， 唔 唔 係 着 猎 猎 猎 猎 点 win7 win7 ， 唔 的 爱 笑 容 ， 结 伴 行 ， 在 春 天 ， 悬 在 你 不 见 途 谈 谈 快 维 维 维 维 维 维 维 维 维 千 里 ， 天 ， 换 节 ， 心 里 漫 天 准 吹 过 份 情 有 我 ， 我 知 结 伴 送 ， 要 淡 ， 想 象 是 在 祝 三 百 天 ， 爱 你 ， 想 毕'}]"
      ]
     },
     "execution_count": 2,
     "metadata": {},
     "output_type": "execute_result"
    }
   ],
   "source": [
    "text_generator(\"当 两 颗 心 开 始 震 动 \", max_length=100, do_sample=True)"
   ]
  },
  {
   "cell_type": "code",
   "execution_count": 90,
   "metadata": {},
   "outputs": [
    {
     "name": "stderr",
     "output_type": "stream",
     "text": [
      "Setting `pad_token_id` to `eos_token_id`:50256 for open-end generation.\n"
     ]
    },
    {
     "data": {
      "text/plain": [
       "[{'generated_text': '当两颗心开始震动， 快 乐 呀 ， 误 解 呀 ， 随 着 时 间 都 会 增 长 ， 退 潮 的 爱 像 刀 疤 ， 伤 过 给 一 个 说 法 ， 放 了 才 能 够 快 乐 ， 让 心 好 好 休 息 一 下 ， 握 不 住 的 他 ， 放 下 也 罢 ， 你 给 的 说 法 ， 说 走 到 分 岔 ， 又 无 力 ， 又 疲 倦 ， 付 出 爱 的 代 价 ， 无 力 自'}]"
      ]
     },
     "execution_count": 90,
     "metadata": {},
     "output_type": "execute_result"
    }
   ],
   "source": [
    "text_generator(\"当两颗心开始震动，\", max_length=100, do_sample=True)"
   ]
  },
  {
   "cell_type": "code",
   "execution_count": 104,
   "metadata": {},
   "outputs": [],
   "source": [
    "from transformers import BertTokenizer, GPT2LMHeadModel, TextGenerationPipeline\n",
    "# tokenizer = BertTokenizer.from_pretrained(\"uer/gpt2-chinese-lyric\")\n",
    "# model = GPT2LMHeadModel.from_pretrained(\"uer/gpt2-chinese-lyric\")\n",
    "tokenizer = BertTokenizer.from_pretrained(\"/localdata/workspace/UER-py/models/clyric\")\n",
    "model = GPT2LMHeadModel.from_pretrained('/localdata/workspace/UER-py/models/clyric')\n",
    "text_generator = TextGenerationPipeline(model, tokenizer)   "
   ]
  },
  {
   "cell_type": "markdown",
   "metadata": {},
   "source": [
    " [{'generated_text': '最美的不是下雨天，是曾与你躲过雨的屋檐 ， 下 课 铃 声 响 起 的 瞬 间 ， 我 们 的 笑 脸 ， 有 太 多 回 忆 在 浮 现 ， 是 你 总 在 我 身 边 ， 不 知 道 会 不 会 再 见 ， 从 现 在 开 始 到 永 远 ， 想 说 的 语 言 凝 结 成 一 句 ， 不 管 我 们 是 否 能 够 兑 现 ， 想 说 的 语 言 凝 结'}]"
   ]
  },
  {
   "cell_type": "markdown",
   "metadata": {},
   "source": []
  }
 ],
 "metadata": {
  "kernelspec": {
   "display_name": "uer",
   "language": "python",
   "name": "python3"
  },
  "language_info": {
   "codemirror_mode": {
    "name": "ipython",
    "version": 3
   },
   "file_extension": ".py",
   "mimetype": "text/x-python",
   "name": "python",
   "nbconvert_exporter": "python",
   "pygments_lexer": "ipython3",
   "version": "3.8.15"
  },
  "orig_nbformat": 4,
  "vscode": {
   "interpreter": {
    "hash": "49a4d35495a0ee52f35720c27c94986b4a3077a71a8c6157808376aed5c51fad"
   }
  }
 },
 "nbformat": 4,
 "nbformat_minor": 2
}
