{
 "cells": [
  {
   "cell_type": "code",
   "execution_count": 27,
   "metadata": {},
   "outputs": [],
   "source": [
    "from transformers import BertTokenizer, GPT2LMHeadModel, TextGenerationPipeline\n",
    "# tokenizer = BertTokenizer.from_pretrained(\"uer/gpt2-chinese-lyric\")\n",
    "# model = GPT2LMHeadModel.from_pretrained(\"uer/gpt2-chinese-lyric\")\n",
    "tokenizer = BertTokenizer.from_pretrained(\"/home/jaj/workspace/UER-py/myspace/cluecorpussmall\")\n",
    "model = GPT2LMHeadModel.from_pretrained('/home/jaj/workspace/UER-py/myspace/cluecorpussmall')\n",
    "text_generator = TextGenerationPipeline(model, tokenizer)   "
   ]
  },
  {
   "cell_type": "code",
   "execution_count": 30,
   "metadata": {},
   "outputs": [
    {
     "name": "stderr",
     "output_type": "stream",
     "text": [
      "Setting `pad_token_id` to `eos_token_id`:50256 for open-end generation.\n"
     ]
    },
    {
     "data": {
      "text/plain": [
       "[{'generated_text': \"'梅花落满了南山↲相逢的烟囱沉默↲他的希望不再闪烁↲他们的眼光密集↲像是冷雨↲他们的心飘荡在海上↲在浪花里↲什么都显得更沉↲人们都会在沙滩上↲看不见的↲声音 象 出 一 样 ↲ 那 是 尸 体 的 山 上 ↲ 海 上 的 山 峰 ↲ 过 山 峰 上 ↲ 点 点 的 一 个 神 秘 ↲ 他 们 是 否 已 经 失 去 了 ↲ 然 的 人 们 ↲ 掠 过 另 一 个 上 帝 ↲ 我 要 的 过 去 ↲ 的 路 标 ↲ 过 你 的 身 上 ↲ 史 学 会 了 ↲ 可 是 ↲ 像 水 上 的 沙 滩 上 ↲ 去 到 什 么 ↲ 的 人 ↲ 去 看 不 见 的 ↲ 过 是 那 片 云 的 ↲ 风 暴 ↲ 雨 的 热 爱 ↲ 我 知 道 ↲ 落 日 的 秋 天 ↲ 然 离 开 的 ↲ 没 有 一 片 ↲ 的 ↲ 的 ↲ 但 我 的 ↲ 的 ↲ 的 ↲ 乌 云 ↲ 谢 你 ↲ 只 有 ↲ 在 我 ↲ 的 一 片 起 伏 不\"},\n",
       " {'generated_text': \"'梅花落满了南山↲相逢的烟囱沉默↲他的希望不再闪烁↲他们的眼光密集↲像是冷雨↲他们的心飘荡在海上↲在浪花里↲什么都显得更沉↲人们都会在沙滩上↲看不见的↲声音 象 出 没 的 ↲ 点 也 叫 出 欢 乐 ↲ 过 水 面 上 月 亮 的 ↲ 只 是 面 色 的 星 光 ↲ 过 了 梦 的 颜 色 ↲ 点 燃 烧 ↲ 的 一 切 为 ↲ 我 们 的 生 命 ↲ 我 们 的 柔 情 ↲ 点 燃 起 的 ↲ 美 丽 的 蓓 桅 ↲ 一 的 一 点 ↲ 我 们 的 爱 ↲ 开 了 award ↲ 不 知 道 ↲ 毒 的 海 鸥 在 海 上 ↲ 金 色 的 海 ↲ 满 了 波 浪 ↲ 升 起 一 场 梦 中 ↲ 被 呢 喃 的 ↲ 惹↲ 我 们 不 羁 ↲ 那 么 一 轮 光 ↲ 的 热 泪 ↲ 枝 ↲ 不 再 也 不 可 是 我 们 的 梦 见 ↲ 不 醒 来 去 的 人 的 热 情 的 太 阳 光 明 的 梦 中 的 潮 水\"},\n",
       " {'generated_text': \"'梅花落满了南山↲相逢的烟囱沉默↲他的希望不再闪烁↲他们的眼光密集↲像是冷雨↲他们的心飘荡在海上↲在浪花里↲什么都显得更沉↲人们都会在沙滩上↲看不见的↲声音 象 出 一 样 ↲ 那 是 尸 体 的 ↲ 没 有 想 法 ↲ 他 们 的 人 们 ↲ 什 么 都 要 离 去 ↲ 手 ↲ 毒 的 人 ↲ 所 以 出 一 个 城 市 ↲ 他 们 是 在 的 故 乡 ↲ 也 没 有 的 驭 味 ↲ 他 们 放 弃 火 的 故 乡 ↲ 挖 掘 ↲ 过 的 ↲ 泪 水 全 放 ↲ 得 ↲ 然 吻 ↲ 的 双 手 ↲ 一 切 语 言 ↲ 在 放 眼 的 ↲ 是 两 个 心 中 ↲ 然 ↲ 进 石 头 的 眼 睛 ↲ 得 空 的 ↲ ↲ 起 ↲ 我 很 久 以 发 芽 的 ↲ 枝 ↲ 不 动 ↲ 得 何 方 的 人 想 ↲ 的 ↲ 我 们 的 人 ↲ 的 ↲ ↲ ↲ 躲 在 期 待 一 切 的\"}]"
      ]
     },
     "execution_count": 30,
     "metadata": {},
     "output_type": "execute_result"
    }
   ],
   "source": [
    "text_generator(\"'梅花落满了南山↲相逢的烟囱沉默↲他的希望不再闪烁↲他们的眼光密集↲像是冷雨↲他们的心飘荡在海上↲在浪花里↲什么都显得更沉↲人们都会在沙滩上↲看不见的↲声音出没着↲他们要放弃火的故乡↲挖掘↲泪水↲\", max_length=256, do_sample=True, top_k=5, top_p=0.95, num_return_sequences=3)"
   ]
  },
  {
   "cell_type": "code",
   "execution_count": 11,
   "metadata": {},
   "outputs": [],
   "source": [
    "from transformers import BertTokenizer, GPT2LMHeadModel, TextGenerationPipeline\n",
    "# tokenizer = BertTokenizer.from_pretrained(\"uer/gpt2-chinese-lyric\")\n",
    "# model = GPT2LMHeadModel.from_pretrained(\"uer/gpt2-chinese-lyric\")\n",
    "tokenizer = BertTokenizer.from_pretrained(\"/home/jaj/workspace/UER-py/myspace/sanwen\")\n",
    "model = GPT2LMHeadModel.from_pretrained('/home/jaj/workspace/UER-py/myspace/sanwen')\n",
    "text_generator = TextGenerationPipeline(model, tokenizer)   "
   ]
  },
  {
   "cell_type": "code",
   "execution_count": 12,
   "metadata": {},
   "outputs": [
    {
     "name": "stderr",
     "output_type": "stream",
     "text": [
      "Setting `pad_token_id` to `eos_token_id`:50256 for open-end generation.\n"
     ]
    },
    {
     "data": {
      "text/plain": [
       "[{'generated_text': '一片大雪犹如雨水↲没有什么是我们的也没有钱↲只有柔情的列车↲情欲与轮奸↲也微不足道↲在肉色的小腿上↲还在语言中解开卑劣↲我们只是年轻的下沉↲不会长久↲的夜↲ 比 昨 夜 山 脉 ↲ 一 个 人 站 在 静 寂 的 山 冈 上 ↲ 在 旷 野 上 ↲ 雪 夜 还 不 见 ↲ 我 们 的 身 边 ↲ 我 们 闻 到 ↲ 一 如 空 白 的 眼 睛 ↲ 一 股 朝 霞 光 ↲ 将 怀 着 雪 的 ↲ 一 海 ↲ 没 有 谁 一 只 美 丽 ↲ 开 ↲ 一 只 无 边 的 琴 弦 ↲ 没 有 光 阴 的 心 ↲ 让 我 们 依 偎 过 ↲ 而 你 是 一 个 的 ↲ 只 有 你 在 心 中 ↲ 只 有 你 ↲ 无 法 接 近 的 将 你 是 一 只 黑 暗 的 典 籍 ↲ 让 我 与 你 相 信 ↲ ↲ 动 ↲ 开 ↲ 让 我 们 为 你 们 若 有 谁 知 道 路 标 志 肠 子 的 心 ↲ 我 们 ↲ 让 我 们 开 满 了 理 由 我'},\n",
       " {'generated_text': '一片大雪犹如雨水↲没有什么是我们的也没有钱↲只有柔情的列车↲情欲与轮奸↲也微不足道↲在肉色的小腿上↲还在语言中解开卑劣↲我们只是年轻的下沉↲不会长久↲的夜↲ 在 山 路 间 走 不 发 ↲ 被 雪 白 的 一 首 歌 中 的 寂 寞 ↲ 一 如 我 们 是 雪 ↲ 我 们 是 无 法 理 解 ↲ 一 棵 大 树 ↲ 在 那 场 大 雪 中 的 花 朵 ↲ 还 是 一 个 完 美 无 休 无 际 的 事 物 ↲ 不 再 有 了 ↲ 我 们 将 复 杂 的 花 开 放 ↲ 只 因 为 我 们 的 自 由 ↲ 在 我 们 的 思 想 中 渐 渐 复 活 ↲ 我 们 活 着 的 一 生 中 ↲ 我 们 有 时 缠 绵 ↲ 一 如 花 瓶 ↲ 我 们 无 法 抵 达 ↲ 我 们 将 解 放 在 ↲ 不 息 ↲ 动 ↲ ↲ 地 吮 吸 来 自 我 们 不 炫 耀 它 们 中 间 的 中 的 海 寄 我 们 发 光 炸 ↲ 我 们 的 惹 时 间 ↲ 我'},\n",
       " {'generated_text': '一片大雪犹如雨水↲没有什么是我们的也没有钱↲只有柔情的列车↲情欲与轮奸↲也微不足道↲在肉色的小腿上↲还在语言中解开卑劣↲我们只是年轻的下沉↲不会长久↲的夜↲ 一 把 劲 风 挥 霍 ↲ 一 把 银 发 中 ↲ 让 我 们 沿 着 赏 向 白 雪 ↲ 整 个 大 雪 ↲ 继 续 着 春 天 的 花 纹 ↲ 不 是 刚 出 的 一 点 ↲ 将 我 们 和 渴 望 ↲ 我 们 的 花 蕾 闪 烁 ↲ 在 阿 珍 藏 着 ↲ 它 那 的 手 ↲ 将 使 我 们 慢 慢 地 ↲ 将 我 们 的 灵 魂 是 幸 福 ↲ 在 盈 满 的 一 口 气 里 比 我 们 分 开 放 ↲ 不 是 隐 藏 ↲ 这 不 是 选 择 ↲ 凉 的 花 还 在 ↲ 我 们 懂 得 安 ↲ 和 热 爱 的 渴 望 ↲ 响 着 ↲ 迫 ↲ 树 上 闪 烁 的 死 亡 ↲ 在 屋 子 的 光 洁 白 光 ↲ 我 们 的 时 间 的 一 闪 烁 ↲ 的 死 亡 ↲ 不'}]"
      ]
     },
     "execution_count": 12,
     "metadata": {},
     "output_type": "execute_result"
    }
   ],
   "source": [
    "text_generator(\"一片大雪犹如雨水↲没有什么是我们的也没有钱↲只有柔情的列车↲情欲与轮奸↲也微不足道↲在肉色的小腿上↲还在语言中解开卑劣↲↲我们只是年轻的下沉↲不会长久↲的夜↲↲一把劲风挥霍↲一把银发中↲我们沿路赏雪↲一如我们是雪↲↲\", max_length=256, do_sample=True, top_k=5, top_p=0.95, num_return_sequences=3)"
   ]
  },
  {
   "cell_type": "markdown",
   "metadata": {},
   "source": [
    "[{'generated_text': '夜空中最亮的星， 这 是 爱 ， 就 此 一 生 ， 愿 我 的 我 的 吻 ， 一 再 爱 ， 也 许 是 我 真 ， 想 对 你 ， 狂 妄 代 价 ， 会 些 为 了 ， 这 种 罪 ， 我 爱 你 ， 没 有 未 能 令 我 的 手 ， 嗯 。 ， 不 要 独 立 生 活 下 也 记 忆 为 我 们 的 心 恼 ， 明 天 可 躲 ， 当 我 的 我 这 单 车 ， 失'}]"
   ]
  },
  {
   "cell_type": "code",
   "execution_count": null,
   "metadata": {},
   "outputs": [],
   "source": [
    "text_generator(\"最美的不是下雨天，是曾与你躲过雨的屋檐\", max_length=256, do_sample=True)"
   ]
  },
  {
   "cell_type": "code",
   "execution_count": null,
   "metadata": {},
   "outputs": [],
   "source": [
    "text_generator(\"当两颗心开始震动,当你瞳孔学会闪躲\", max_length=100, do_sample=True)"
   ]
  },
  {
   "cell_type": "code",
   "execution_count": null,
   "metadata": {},
   "outputs": [],
   "source": [
    "text_generator(\"当 两 颗 心 开 始 震 动 \", max_length=100, do_sample=True)"
   ]
  },
  {
   "cell_type": "code",
   "execution_count": null,
   "metadata": {},
   "outputs": [],
   "source": [
    "text_generator(\"当两颗心开始震动，\", max_length=100, do_sample=True)"
   ]
  },
  {
   "cell_type": "code",
   "execution_count": null,
   "metadata": {},
   "outputs": [],
   "source": [
    "from transformers import BertTokenizer, GPT2LMHeadModel, TextGenerationPipeline\n",
    "# tokenizer = BertTokenizer.from_pretrained(\"uer/gpt2-chinese-lyric\")\n",
    "# model = GPT2LMHeadModel.from_pretrained(\"uer/gpt2-chinese-lyric\")\n",
    "tokenizer = BertTokenizer.from_pretrained(\"/localdata/workspace/UER-py/models/clyric\")\n",
    "model = GPT2LMHeadModel.from_pretrained('/localdata/workspace/UER-py/models/clyric')\n",
    "text_generator = TextGenerationPipeline(model, tokenizer)   "
   ]
  },
  {
   "cell_type": "markdown",
   "metadata": {},
   "source": [
    " [{'generated_text': '最美的不是下雨天，是曾与你躲过雨的屋檐 ， 下 课 铃 声 响 起 的 瞬 间 ， 我 们 的 笑 脸 ， 有 太 多 回 忆 在 浮 现 ， 是 你 总 在 我 身 边 ， 不 知 道 会 不 会 再 见 ， 从 现 在 开 始 到 永 远 ， 想 说 的 语 言 凝 结 成 一 句 ， 不 管 我 们 是 否 能 够 兑 现 ， 想 说 的 语 言 凝 结'}]"
   ]
  },
  {
   "cell_type": "code",
   "execution_count": 93,
   "metadata": {},
   "outputs": [
    {
     "name": "stderr",
     "output_type": "stream",
     "text": [
      "Special tokens have been added in the vocabulary, make sure the associated word embeddings are fine-tuned or trained.\n",
      "Building prefix dict from the default dictionary ...\n",
      "Dumping model to file cache /tmp/jieba.cache\n",
      "Loading model cost 0.447 seconds.\n",
      "Prefix dict has been built successfully.\n"
     ]
    },
    {
     "name": "stdout",
     "output_type": "stream",
     "text": [
      "[{'generated_text': '天下熙熙，皆为利禄。 '}]\n"
     ]
    }
   ],
   "source": [
    "from transformers import XLNetTokenizer, GPT2LMHeadModel\n",
    "from transformers import TextGenerationPipeline\n",
    "import jieba\n",
    "# add spicel process \n",
    "class XLNetTokenizer(XLNetTokenizer):\n",
    "    translator = str.maketrans(\" \\n\", \"\\u2582\\u2583\")\n",
    "    def _tokenize(self, text, *args, **kwargs):\n",
    "        text = [x.translate(self.translator) for x in jieba.cut(text, cut_all=False)]\n",
    "        text = \" \".join(text)\n",
    "        return super()._tokenize(text, *args, **kwargs)\n",
    "    def _decode(self, *args, **kwargs):\n",
    "        text = super()._decode(*args, **kwargs)\n",
    "        text = text.replace(' ', '').replace('\\u2582', ' ').replace('\\u2583', '\\n')\n",
    "        return text\n",
    "\n",
    "tokenizer = XLNetTokenizer.from_pretrained('mymusise/CPM-Generate-distill')\n",
    "model = GPT2LMHeadModel.from_pretrained(\"mymusise/CPM-Generate-distill\")\n",
    "\n",
    "text_generater = TextGenerationPipeline(model, tokenizer)\n",
    "\n",
    "print(text_generater(\"天下熙熙，\", max_length=15, top_k=1, use_cache=True, prefix=''))\n"
   ]
  },
  {
   "cell_type": "code",
   "execution_count": 95,
   "metadata": {},
   "outputs": [
    {
     "data": {
      "text/plain": [
       "[{'generated_text': '梅花落满了南山,南山是什么?南山的山峰,是一座巨大的神庙。 \\n南山是一座神庙,南山神庙是一座山。 \\n神庙'}]"
      ]
     },
     "execution_count": 95,
     "metadata": {},
     "output_type": "execute_result"
    }
   ],
   "source": [
    "text_generater('梅花落满了南山', max_length=50, do_sample=True, top_p=0.9, top_k=10)"
   ]
  }
 ],
 "metadata": {
  "kernelspec": {
   "display_name": "uer",
   "language": "python",
   "name": "python3"
  },
  "language_info": {
   "codemirror_mode": {
    "name": "ipython",
    "version": 3
   },
   "file_extension": ".py",
   "mimetype": "text/x-python",
   "name": "python",
   "nbconvert_exporter": "python",
   "pygments_lexer": "ipython3",
   "version": "3.8.15"
  },
  "orig_nbformat": 4,
  "vscode": {
   "interpreter": {
    "hash": "cc929b8184b97e264f70f5284f280b8cccade275b07b2944f5e202851ce07696"
   }
  }
 },
 "nbformat": 4,
 "nbformat_minor": 2
}
